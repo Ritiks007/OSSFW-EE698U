{
  "nbformat": 4,
  "nbformat_minor": 0,
  "metadata": {
    "colab": {
      "provenance": []
    },
    "kernelspec": {
      "name": "python3",
      "display_name": "Python 3"
    },
    "language_info": {
      "name": "python"
    }
  },
  "cells": [
    {
      "cell_type": "code",
      "metadata": {
        "id": "SceZWCibQ2Iv"
      },
      "source": [
        "import numpy as np\n",
        "import matplotlib.pyplot as plt\n",
        "import time\n",
        "from scipy.optimize import minimize\n",
        "from scipy.optimize import LinearConstraint\n",
        "import random"
      ],
      "execution_count": null,
      "outputs": []
    },
    {
      "cell_type": "code",
      "metadata": {
        "id": "QRsUCo9aQ7lc"
      },
      "source": [
        "def get_Haar(l,d):\n",
        "  X = np.random.randn(d,l)\n",
        "  Q,R = np.linalg.qr(X , mode = 'reduced')\n",
        "  L = np.diag(np.sign(np.diag(R)))\n",
        "  P = ((d/l)**0.5)*np.matmul(Q,L)\n",
        "  return P"
      ],
      "execution_count": null,
      "outputs": []
    },
    {
      "cell_type": "code",
      "metadata": {
        "id": "hUWd4dz0ylv3"
      },
      "source": [
        "# l,d = 10,100\n",
        "# K = 50\n",
        "# Haar = []\n",
        "# for i in range(K):\n",
        "#   P=get_Haar(l,d)\n",
        "#   Haar.append([P.dot(P.T)])"
      ],
      "execution_count": null,
      "outputs": []
    },
    {
      "cell_type": "code",
      "metadata": {
        "id": "wl2Wyjlz7X3A"
      },
      "source": [
        "def subopt(K,T,l,d):\n",
        "  Haar = []\n",
        "  for i in range(K):\n",
        "    P = get_Haar(l,d)\n",
        "    Haar.append([P.dot(P.T)])\n",
        "  S = np.zeros_like(Haar[0])\n",
        "  for j in range(T):\n",
        "    S = S + random.choice(Haar)\n",
        "  Exp = S/T\n",
        "  err = np.linalg.norm((Exp.reshape(d,d) - np.identity(d)),'fro')\n",
        "  return err"
      ],
      "execution_count": null,
      "outputs": []
    },
    {
      "cell_type": "code",
      "metadata": {
        "id": "NRfm0r1FEeYH"
      },
      "source": [
        "subopt()"
      ],
      "execution_count": null,
      "outputs": []
    },
    {
      "cell_type": "code",
      "metadata": {
        "id": "JZqtHfGan_yq"
      },
      "source": [
        "def geterr(d,l,T):\n",
        "  err = np.array([])\n",
        "  K = np.array([])\n",
        "  for k in range(1,T+1):\n",
        "    err = np.append(err, subopt(k,T,l,d))\n",
        "    K = np.append(K,k)\n",
        "  return K,err"
      ],
      "execution_count": null,
      "outputs": []
    },
    {
      "cell_type": "code",
      "metadata": {
        "id": "yDuse2rBojkD"
      },
      "source": [
        "k1,err1 = geterr(d = 100, l =2, T=1000)\n",
        "k2,err2 = geterr(d = 100, l=10, T=1000)\n",
        "k3,err3 = geterr(d = 100, l=25, T=1000)\n",
        "k4,err4 = geterr(d = 100, l=50, T= 1000)\n",
        "k5,err5 = geterr(d = 100, l =75, T = 1000)\n"
      ],
      "execution_count": null,
      "outputs": []
    },
    {
      "cell_type": "code",
      "metadata": {
        "id": "adh4zdoBE6Ih"
      },
      "source": [
        "k6,err6 = geterr(d = 100, l =90, T = 1000)"
      ],
      "execution_count": null,
      "outputs": []
    },
    {
      "cell_type": "code",
      "metadata": {
        "id": "rjDLAHGf2oDH"
      },
      "source": [
        "np.savetxt(\"k1.csv\", k1,\n",
        "              delimiter = \",\")\n",
        "np.savetxt(\"k2.csv\", k2,\n",
        "              delimiter = \",\")\n",
        "np.savetxt(\"k3.csv\", k3,\n",
        "              delimiter = \",\")\n",
        "np.savetxt(\"k4.csv\", k4,\n",
        "              delimiter = \",\")\n",
        "np.savetxt(\"k5.csv\", k5,\n",
        "              delimiter = \",\")\n",
        "np.savetxt(\"err1.csv\", err1,\n",
        "              delimiter = \",\")\n",
        "np.savetxt(\"err2.csv\", err2,\n",
        "              delimiter = \",\")\n",
        "np.savetxt(\"err3.csv\", err3,\n",
        "              delimiter = \",\")\n",
        "np.savetxt(\"err4.csv\", err4,\n",
        "              delimiter = \",\")\n",
        "np.savetxt(\"err5.csv\", err5,\n",
        "              delimiter = \",\")\n"
      ],
      "execution_count": null,
      "outputs": []
    },
    {
      "cell_type": "code",
      "metadata": {
        "colab": {
          "base_uri": "https://localhost:8080/",
          "height": 297
        },
        "id": "qgn8tbJQHZyy",
        "outputId": "5a8d57ab-f823-452d-8f71-0915fb15bac2"
      },
      "source": [
        "plt.plot(k1[50:] , err1[50:] , linestyle = '-', label ='l=2')\n",
        "plt.plot(k2[50:] , err2[50:] , linestyle = '-', label ='l=10')\n",
        "plt.plot(k3[50:] , err3[50:] , linestyle = '-', label ='l=25')\n",
        "plt.plot(k4[50:] , err4[50:] , linestyle = '-', label ='l=50')\n",
        "plt.plot(k5[50:] , err5[50:] , linestyle = '-', label ='l=75')\n",
        "plt.plot(k6[50:] , err6[50:] , linestyle = '-', label ='l=90')\n",
        "plt.xlabel('Value of K')\n",
        "plt.ylabel('Error')\n",
        "plt.grid()\n",
        "plt.legend()"
      ],
      "execution_count": null,
      "outputs": [
        {
          "output_type": "execute_result",
          "data": {
            "text/plain": [
              "<matplotlib.legend.Legend at 0x7fb382f10e50>"
            ]
          },
          "metadata": {},
          "execution_count": 113
        },
        {
          "output_type": "display_data",
          "data": {
            "image/png": "[encoded data removed]",
            "text/plain": [
              "<Figure size 432x288 with 1 Axes>"
            ]
          },
          "metadata": {
            "needs_background": "light"
          }
        }
      ]
    },
    {
      "cell_type": "code",
      "metadata": {
        "colab": {
          "base_uri": "https://localhost:8080/"
        },
        "id": "svjVWaP6Ekpk",
        "outputId": "a81638fe-608b-4f8d-bdbc-9c412c9b77cc"
      },
      "source": [
        "err3[100]"
      ],
      "execution_count": null,
      "outputs": [
        {
          "output_type": "execute_result",
          "data": {
            "text/plain": [
              "1.8249817349905537"
            ]
          },
          "metadata": {},
          "execution_count": 129
        }
      ]
    },
    {
      "cell_type": "code",
      "metadata": {
        "id": "rm5Y4okrv4LB"
      },
      "source": [
        "# k11,err11 = geterr(d = 500, l =25, T=1000)\n",
        "# k21,err21 = geterr(d = 500, l=75, T=1000)\n",
        "# k31,err31 = geterr(d = 500, l=125, T=1000)\n",
        "# k41,err41 = geterr(d = 500, l=250, T= 1000)\n",
        "# k51,err51 = geterr(d = 500, l =375, T = 1000)"
      ],
      "execution_count": null,
      "outputs": []
    },
    {
      "cell_type": "code",
      "metadata": {
        "id": "fBxYE6WYwUlW"
      },
      "source": [
        "# plt.plot(k11[50:] , err11[50:] , linestyle = '-', label ='l=2')\n",
        "# plt.plot(k21[50:] , err21[50:] , linestyle = '-', label ='l=10')\n",
        "# plt.plot(k31[50:] , err31[50:] , linestyle = '-', label ='l=25')\n",
        "# plt.plot(k41[50:] , err41[50:] , linestyle = '-', label ='l=50')\n",
        "# plt.plot(k51[50:] , err51[50:] , linestyle = '-', label ='l=75')\n",
        "# plt.xlabel('Value of K')\n",
        "# plt.ylabel('Error')\n",
        "# plt.grid()\n",
        "# plt.legend()"
      ],
      "execution_count": null,
      "outputs": []
    },
    {
      "cell_type": "code",
      "metadata": {
        "colab": {
          "base_uri": "https://localhost:8080/"
        },
        "id": "oTgnQQIq8fe1",
        "outputId": "615efe11-53e3-464b-af7e-1f88fd4840e7"
      },
      "source": [
        "F=0\n",
        "for i in range(1000):\n",
        "  F = F + np.linalg.norm(get_Haar(10,20), 'fro')\n",
        "  P = get_Haar(1,100)\n",
        "print(F/1000)\n",
        "np.linalg.norm(P.dot(P.T) , 'fro')"
      ],
      "execution_count": null,
      "outputs": [
        {
          "output_type": "stream",
          "text": [
            "4.472135954999514\n"
          ],
          "name": "stdout"
        },
        {
          "output_type": "execute_result",
          "data": {
            "text/plain": [
              "99.99999999999999"
            ]
          },
          "metadata": {
            "tags": []
          },
          "execution_count": 3
        }
      ]
    },
    {
      "cell_type": "code",
      "metadata": {
        "id": "lTkshBc5Q-MX"
      },
      "source": [
        "def get_z():\n",
        "  return np.random.uniform(0,1)\n",
        "  # return 0.5"
      ],
      "execution_count": null,
      "outputs": []
    },
    {
      "cell_type": "code",
      "metadata": {
        "id": "KCUknu-dR7Bq"
      },
      "source": [
        "def grad_func(x,z,A,B):   #least squares minimization z*|| AX-B ||^2\n",
        "  # return 2*z*np.matmul(A.T,(np.matmul(A,x)-B))\n",
        "  return 2*z*(x)"
      ],
      "execution_count": null,
      "outputs": []
    },
    {
      "cell_type": "code",
      "metadata": {
        "id": "jEJFDWlwSHBP",
        "colab": {
          "base_uri": "https://localhost:8080/"
        },
        "outputId": "9a643387-1534-4b75-88e5-cb336abcc75d"
      },
      "source": [
        "G = np.random.random((100,100))\n",
        "A = (G + G.T)/2\n",
        "B = np.random.random((100,1))\n",
        "x_s = np.ones((100,1))*10\n",
        "x_op = np.matmul(np.matmul(np.linalg.inv(np.matmul(A, A)),A.T),B)\n",
        "np.min(x_op)"
      ],
      "execution_count": null,
      "outputs": [
        {
          "output_type": "execute_result",
          "data": {
            "text/plain": [
              "-1.7255762605891203"
            ]
          },
          "metadata": {
            "tags": []
          },
          "execution_count": 6
        }
      ]
    },
    {
      "cell_type": "code",
      "metadata": {
        "id": "rogKNNAWTeCj"
      },
      "source": [
        "x_s = np.ones((100,1))*10"
      ],
      "execution_count": null,
      "outputs": []
    },
    {
      "cell_type": "code",
      "metadata": {
        "id": "fD09pJtOifns"
      },
      "source": [
        "def Frank_wolfe(T, eta, epsilon, rho, x_start, x_opt, A, B, l , d):\n",
        "  x_curr = np.copy(x_start)\n",
        "  x_prev = np.copy(x_curr)\n",
        "  s_time = time.time()\n",
        "  err_arr = np.array([])\n",
        "  iter_arr = np.array([])\n",
        "  time_arr = np.array([])\n",
        "  err = abs(np.linalg.norm(x_curr-1))\n",
        "  c_t = time.time()-s_time\n",
        "  err_arr = np.append(err_arr, err)\n",
        "  time_arr = np.append(time_arr, c_t)\n",
        "  # iter_arr = np.append(iter_arr,1)\n",
        "  z_prev = 0\n",
        "  for i in range(T):\n",
        "    if i == 0:\n",
        "      eta = 1.\n",
        "      z = get_z()\n",
        "      d_curr = grad_func(x_curr,z,A,B)\n",
        "      # print(d_curr.shape)\n",
        "      d_prev = d_curr\n",
        "      # print(\"x_curr_1\", x_curr.shape)\n",
        "      d_curr = d_curr.reshape(d,1)\n",
        "      fun = lambda x: np.matmul(d_curr,x)\n",
        "      x0 = np.ones((d, 1))\n",
        "      con = LinearConstraint(np.identity(d),-10,10)\n",
        "      res = minimize(fun,x0,constraints = con)\n",
        "      y_curr = res.x\n",
        "\n",
        "      x_next = (1-eta)*x_curr + eta*y_curr\n",
        "      # df = x_next - x_curr\n",
        "      # print(\"x_next\", x_next.shape)\n",
        "      x_curr = np.copy(x_next)\n",
        "      err = abs(np.linalg.norm(x_curr-1))\n",
        "      c_t = time.time()-s_time\n",
        "      err_arr = np.append(err_arr, err)\n",
        "      time_arr = np.append(time_arr, c_t)\n",
        "      iter_arr = np.append(iter_arr,i+1)\n",
        "      z_prev = z\n",
        "      y_prev = y_curr\n",
        "    else:\n",
        "      eta = 1/((i+1))\n",
        "      rho = 1/i\n",
        "      z = get_z()\n",
        "      # P = get_Haar(l,d)\n",
        "      delta_curr = grad_func(x_curr,z,A,B) - grad_func(x_prev,z,A,B)\n",
        "      x_prev = np.copy(x_curr)\n",
        "      # print(\"x_curr\", x_curr.shape)\n",
        "      d_curr = (1-rho)*(d_prev + delta_curr) + rho*grad_func(x_curr,z,A,B)\n",
        "      # - np.matmul((np.matmul(P,P.T)-np.identity(100)), d_prev)\n",
        "      # print(\"d_curr\", d_curr.shape)\n",
        "      d_curr = d_curr.reshape(d,1)\n",
        "      d_prev = d_curr\n",
        "\n",
        "      fun = lambda x: np.matmul(d_curr,x)\n",
        "      x0 = np.ones((d, 1))\n",
        "      con = LinearConstraint(np.identity(d),-10,10)\n",
        "      res = minimize(fun,x0,constraints = con)\n",
        "      y_curr = res.x\n",
        "\n",
        "      x_next = (1-eta)*x_curr + eta*y_curr\n",
        "      y_prev = y_curr\n",
        "      # df = x_next - x_curr\n",
        "      x_curr = np.copy(x_next)\n",
        "      err = abs(np.linalg.norm(x_curr))\n",
        "      c_t = time.time()-s_time\n",
        "      err_arr = np.append(err_arr, err)\n",
        "      time_arr = np.append(time_arr, c_t)\n",
        "      iter_arr = np.append(iter_arr,i+1)\n",
        "      print(\"Iteration\",i,\"\\n diff is\",err)\n",
        "      z_prev = z\n",
        "\n",
        "  return iter_arr, err_arr, time_arr, x_next"
      ],
      "execution_count": null,
      "outputs": []
    },
    {
      "cell_type": "code",
      "metadata": {
        "id": "DsLKrqVvbGFi"
      },
      "source": [
        "def argmin(v,P,l,d):\n",
        "  v = v.flatten()\n",
        "  print(v.shape)\n",
        "  # x = P.T.dot(np.ones(10)*0)\n",
        "  high = P.T.dot(np.ones((d,1))*(10))\n",
        "  low = P.T.dot(np.ones((d,1))*(-10))\n",
        "  high = high.flatten()\n",
        "  low = low.flatten()\n",
        "\n",
        "  # shape = args\n",
        "  # v = v.reshape(shape)\n",
        "  fun = lambda x: np.matmul(v,x)\n",
        "  x0 = np.ones((l, 1))\n",
        "  con = LinearConstraint(np.identity(l),low,high)\n",
        "  res = minimize(fun,x0,constraints = con)\n",
        "  return res.x"
      ],
      "execution_count": null,
      "outputs": []
    },
    {
      "cell_type": "code",
      "metadata": {
        "id": "F4v3xFtWWB4a"
      },
      "source": [
        "def AlgoA(T, eta, epsilon, rho, x_start, x_opt, A, B, l , d):\n",
        "  # x_opt = np.ones(d)*5\n",
        "  x_curr = np.copy(x_start)\n",
        "  x_prev = np.copy(x_curr)\n",
        "  s_time = time.time()\n",
        "  err_arr = np.array([])\n",
        "  iter_arr = np.array([])\n",
        "  time_arr = np.array([])\n",
        "  err = abs(np.linalg.norm(x_curr-1))\n",
        "  c_t = time.time()-s_time\n",
        "  err_arr = np.append(err_arr, err)\n",
        "  time_arr = np.append(time_arr, c_t)\n",
        "  # iter_arr = np.append(iter_arr,1)\n",
        "  z_prev = 0\n",
        "  for i in range(T):\n",
        "    if i == 0:\n",
        "      eta = 1.\n",
        "      P = get_Haar(l,d)\n",
        "      z = get_z()\n",
        "      d_curr = grad_func(x_curr,z,A,B)\n",
        "      # print(d_curr.shape)\n",
        "      d_prev = d_curr\n",
        "      u_curr = argmin(np.matmul(P.T, d_curr),P ,l,d)\n",
        "      y_curr = P.dot(u_curr).reshape(d, 1)\n",
        "      # print(\"x_curr_1\", x_curr.shape)\n",
        "\n",
        "      x_next = (1-eta)*x_curr + eta*y_curr\n",
        "      # df = x_next - x_curr\n",
        "      # print(\"x_next\", x_next.shape)\n",
        "      x_curr = np.copy(x_next)\n",
        "      err = abs(np.linalg.norm(x_curr-1))\n",
        "      c_t = time.time()-s_time\n",
        "      err_arr = np.append(err_arr, err)\n",
        "      time_arr = np.append(time_arr, c_t)\n",
        "      iter_arr = np.append(iter_arr,i+1)\n",
        "      z_prev = z\n",
        "      y_prev = y_curr\n",
        "    else:\n",
        "      k = (d/l+1)\n",
        "      eta = 1/((i+1))\n",
        "      rho = 1/i\n",
        "      z = get_z()\n",
        "      P = get_Haar(l,d)\n",
        "      delta_curr = grad_func(x_curr,z,A,B) - grad_func(x_prev,z,A,B)\n",
        "      x_prev = np.copy(x_curr)\n",
        "      # print(\"x_curr\", x_curr.shape)\n",
        "      d_curr = (1-rho)*(d_prev + delta_curr) + rho*grad_func(x_curr,z,A,B)\n",
        "      # - np.matmul((np.matmul(P,P.T)-np.identity(100)), d_prev)\n",
        "      # print(\"d_curr\", d_curr.shape)\n",
        "      d_prev = d_curr\n",
        "      u_curr = argmin(np.matmul(P.T, d_curr),P,l,d)\n",
        "      y_curr = P.dot(u_curr).reshape(d, 1)\n",
        "      x_next = (1-eta)*x_curr + eta*y_curr\n",
        "      y_prev = y_curr\n",
        "      # df = x_next - x_curr\n",
        "      x_curr = np.copy(x_next)\n",
        "      err = abs(np.linalg.norm(x_curr))\n",
        "      c_t = time.time()-s_time\n",
        "      err_arr = np.append(err_arr, err)\n",
        "      time_arr = np.append(time_arr, c_t)\n",
        "      iter_arr = np.append(iter_arr,i+1)\n",
        "      print(\"Iteration\",i,\"\\n diff is\",err)\n",
        "      z_prev = z\n",
        "      # if err < 0.5:\n",
        "      #   break;\n",
        "  return iter_arr, err_arr, time_arr, x_next"
      ],
      "execution_count": null,
      "outputs": []
    },
    {
      "cell_type": "code",
      "metadata": {
        "id": "MvDkVKazh880"
      },
      "source": [
        "def Grad_Descent(T,eta,epsilon,x_opt,x_start,a,b):\n",
        "  # x_opt = np.ones(100)*5\n",
        "  s_time = time.time()\n",
        "  x_curr = x_start\n",
        "  iter = 0\n",
        "  diff_v = np.array([])\n",
        "  time_v = np.array([])\n",
        "  iteration = np.array([])\n",
        "  diff = np.linalg.norm((x_curr),2)\n",
        "  c_t = time.time()-s_time\n",
        "  diff_v = np.append(diff_v,diff)\n",
        "  time_v = np.append(time_v, c_t)\n",
        "  iteration = np.append(iteration,1)\n",
        "  eigen = np.linalg.eigvals(2*np.matmul(a,a.T))\n",
        "  l_max, l_min = np.amax(eigen), np.amin(eigen)\n",
        "  x_next = x_curr\n",
        "  for i in range(T):\n",
        "    x_curr = x_next\n",
        "    x_next = x_curr - (1/(i+1))*grad_func(x_curr,0.5,a,b)\n",
        "    # x_next = x_curr - (2/(l_max+l_min))*grad_func(x_curr,0.5,a,b)\n",
        "    # /np.linalg.norm(grad(x_curr,a,b),2)\n",
        "    iter = iter + 1\n",
        "    diff = np.linalg.norm((x_curr),2)\n",
        "    c_t = time.time() - s_time\n",
        "    diff_v = np.append(diff_v,diff)\n",
        "    time_v = np.append(time_v, c_t)\n",
        "    iteration = np.append(iteration,iter)\n",
        "    print(\"Iteration\",iter,\"\\n diff is\",diff)\n",
        "  return time_v, iteration, diff_v, x_next"
      ],
      "execution_count": null,
      "outputs": []
    },
    {
      "cell_type": "code",
      "metadata": {
        "id": "lFkikLM2qYo0"
      },
      "source": [
        "def AlgoAi(T, eta, epsilon, rho, x_start, x_opt, A, B, l , d):\n",
        "  # x_opt = np.ones(d)*5\n",
        "  x_curr = np.copy(x_start)\n",
        "  x_prev = np.copy(x_curr)\n",
        "  s_time = time.time()\n",
        "  err_arr = np.array([])\n",
        "  iter_arr = np.array([])\n",
        "  time_arr = np.array([])\n",
        "  err = abs(np.linalg.norm(x_curr))\n",
        "  c_t = time.time()-s_time\n",
        "  err_arr = np.append(err_arr, err)\n",
        "  time_arr = np.append(time_arr, c_t)\n",
        "  # iter_arr = np.append(iter_arr,1)\n",
        "  z_prev = 0\n",
        "  for i in range(T):\n",
        "    if i == 0:\n",
        "      eta = 0.01\n",
        "      P = get_Haar(l,d)\n",
        "      z = get_z()\n",
        "      d_curr = grad_func(x_curr,z,A,B)\n",
        "      # print(d_curr.shape)\n",
        "      d_prev = d_curr\n",
        "      u_curr = argmin(np.matmul(P.T, d_curr),P ,l,d)\n",
        "      y_curr = P.dot(u_curr).reshape(d, 1)\n",
        "      # print(\"x_curr_1\", x_curr.shape)\n",
        "\n",
        "      x_next = (1-eta)*x_curr + eta*y_curr\n",
        "      # df = x_next - x_curr\n",
        "      # print(\"x_next\", x_next.shape)\n",
        "      x_curr = np.copy(x_next)\n",
        "      err = abs(np.linalg.norm(x_curr))\n",
        "      c_t = time.time()-s_time\n",
        "      err_arr = np.append(err_arr, err)\n",
        "      time_arr = np.append(time_arr, c_t)\n",
        "      iter_arr = np.append(iter_arr,i+1)\n",
        "      z_prev = z\n",
        "      y_prev = y_curr\n",
        "    else:\n",
        "      k = ((d/l)**2+1)**0.5\n",
        "      eta = 1/((i+1)*k)\n",
        "      rho = 0.1\n",
        "      z = get_z()\n",
        "      P = get_Haar(l,d)\n",
        "      delta_curr = grad_func(x_curr,z,A,B) - grad_func(x_prev,z,A,B)\n",
        "      x_prev = np.copy(x_curr)\n",
        "      # print(\"x_curr\", x_curr.shape)\n",
        "      d_curr = (1-rho)*(d_prev + delta_curr) + rho*grad_func(x_curr,z,A,B)\n",
        "      # - np.matmul((np.matmul(P,P.T)-np.identity(100)), d_prev)\n",
        "      # print(\"d_curr\", d_curr.shape)\n",
        "      d_prev = d_curr\n",
        "      u_curr = argmin(np.matmul(P.T, d_curr),P,l,d)\n",
        "      y_curr = P.dot(u_curr).reshape(d, 1)\n",
        "      x_next = (1-eta)*x_curr + eta*y_curr\n",
        "      y_prev = y_curr\n",
        "      # df = x_next - x_curr\n",
        "      x_curr = np.copy(x_next)\n",
        "      err = abs(np.linalg.norm(x_curr))\n",
        "      c_t = time.time()-s_time\n",
        "      err_arr = np.append(err_arr, err)\n",
        "      time_arr = np.append(time_arr, c_t)\n",
        "      iter_arr = np.append(iter_arr,i+1)\n",
        "      print(\"Iteration\",i,\"\\n diff is\",err)\n",
        "      z_prev = z\n",
        "      # if err < 0.5:\n",
        "      #   break;\n",
        "  return iter_arr, err_arr, time_arr, x_next"
      ],
      "execution_count": null,
      "outputs": []
    },
    {
      "cell_type": "code",
      "metadata": {
        "id": "z9qbmhkbZ43f"
      },
      "source": [
        "# def AlgoB(T, eta, epsilon, rho, x_opt, A, B):\n",
        "#   x_curr = np.copy(x_start)\n",
        "#   x_prev = np.copy(x_curr)\n",
        "#   s_time = time.time()\n",
        "#   err_arr = np.array([])\n",
        "#   iter_arr = np.array([])\n",
        "#   time_arr = np.array([])\n",
        "#   err = np.linalg.norm((x_curr - x_opt),2)\n",
        "#   c_t = time.time()-s_time\n",
        "#   err_arr = np.append(err_arr, err)\n",
        "#   time_arr = np.append(time_arr, c_t)\n",
        "#   # iter_arr = np.append(iter_arr,1)\n",
        "#   for i in range(T):\n",
        "#     if i == 0:\n",
        "#       P = get_Haar(5,10)\n",
        "#       z = get_z()\n",
        "#       d_curr = grad_func(x_curr,z,A,B)\n",
        "#       print(d_curr.shape)\n",
        "#       d_prev = d_curr\n",
        "#       u_curr = argmin(np.matmul(P.T, d_curr),P)\n",
        "#       y_curr = P.dot(u_curr).reshape(10, 1)\n",
        "#       print(\"x_curr_1\", x_curr.shape)\n",
        "\n",
        "#       x_next = (1-eta)*x_curr + eta*y_curr\n",
        "#       print(\"x_next\", x_next.shape)\n",
        "#       x_curr = np.copy(x_next)\n",
        "#       err = np.linalg.norm((x_curr - x_opt),2)\n",
        "#       c_t = time.time()-s_time\n",
        "#       err_arr = np.append(err_arr, err)\n",
        "#       time_arr = np.append(time_arr, c_t)\n",
        "#       iter_arr = np.append(iter_arr,i+1)\n",
        "#     else:\n",
        "#       z = get_z()\n",
        "#       P = get_Haar(5,10)\n",
        "#       delta_curr = grad_func(x_curr,z,A,B) - grad_func(x_prev,z,A,B)\n",
        "#       x_prev = np.copy(x_curr)\n",
        "#       print(\"x_curr\", x_curr.shape)\n",
        "#       d_curr = (1-rho)*(d_prev + delta_curr) + rho*grad_func(x_curr,z,A,B)\n",
        "#       print(\"d_curr\", d_curr.shape)\n",
        "#       d_prev = d_curr\n",
        "#       u_curr = argmin(np.matmul(P.T, d_curr),P)\n",
        "#       y_curr = P.dot(u_curr).reshape(10, 1)\n",
        "#       x_next = (1-eta)*x_curr + eta*y_curr\n",
        "#       x_curr = np.copy(x_next)\n",
        "#       err = np.linalg.norm((x_curr - x_opt),2)\n",
        "#       c_t = time.time()-s_time\n",
        "#       err_arr = np.append(err_arr, err)\n",
        "#       time_arr = np.append(time_arr, c_t)\n",
        "#       iter_arr = np.append(iter_arr,i+1)\n",
        "#       print(\"Iteration\",i,\"\\n diff is\",err)\n",
        "#   return iteration, err_list, time_list"
      ],
      "execution_count": null,
      "outputs": []
    },
    {
      "cell_type": "code",
      "metadata": {
        "id": "QljKIgJmiHfx"
      },
      "source": [
        "GT, GI, GE, xGD = Grad_Descent(1000,0.5 , 0.001, x_opt = np.copy(x_op), x_start = np.copy(x_s) , a = np.copy(A), b = np.copy(B) )"
      ],
      "execution_count": null,
      "outputs": []
    },
    {
      "cell_type": "code",
      "metadata": {
        "id": "96_ZheESmPXu"
      },
      "source": [
        "ii_A1, ei_A1, ti_A1, x1i = Frank_wolfe(1000, 1 , 0.1, 0.6, x_start= np.copy(x_s), x_opt= np.copy(x_op), A = np.copy(A), B = np.copy(B), l = 2, d = 100)"
      ],
      "execution_count": null,
      "outputs": []
    },
    {
      "cell_type": "code",
      "metadata": {
        "id": "566-WxWMOrs7"
      },
      "source": [
        "ii_A1, ei_A1, ti_A1, x1i = AlgoA(1000, 1 , 0.1, 0.6, x_start= np.copy(x_s), x_opt= np.copy(x_op), A = np.copy(A), B = np.copy(B), l = 2, d = 100)\n",
        "ii_A2, ei_A2, ti_A2, x2i = AlgoA(1000, 1 , 0.1, 0.9, x_start= np.copy(x_s), x_opt= np.copy(x_op), A = np.copy(A), B = np.copy(B), l = 15 , d = 100)\n",
        "ii_A3, ei_A3, ti_A3, x3i = AlgoA(1000, 1 , 0.1, 0.6, x_start= np.copy(x_s), x_opt= np.copy(x_op), A = np.copy(A), B = np.copy(B), l = 25, d = 100)\n",
        "ii_A4, ei_A4, ti_A4, x4i = AlgoA(100, 1 , 0.1, 0.6, x_start= np.copy(x_s), x_opt= np.copy(x_op), A = np.copy(A), B = np.copy(B), l = 75, d = 100) #z_prev"
      ],
      "execution_count": null,
      "outputs": []
    },
    {
      "cell_type": "code",
      "metadata": {
        "id": "VU3INL65qijt"
      },
      "source": [
        "# i_A1, e_A1, t_A1, x1 = AlgoAi(1000, 1 , 0.1, 0.6, x_start= np.copy(x_s), x_opt= np.copy(x_op), A = np.copy(A), B = np.copy(B), l = 10, d = 100)\n",
        "# i_A2, e_A2, t_A2, x2 = AlgoA(1000, 1 , 0.1, 0.9, x_start= np.copy(x_s), x_opt= np.copy(x_op), A = np.copy(A), B = np.copy(B), l = 15 , d = 100)\n",
        "# i_A3, e_A3, t_A3, x3 = AlgoAi(1000, 1 , 0.1, 0.6, x_start= np.copy(x_s), x_opt= np.copy(x_op), A = np.copy(A), B = np.copy(B), l = 25, d = 100)\n",
        "i_A4, e_A4, t_A4, x4 = AlgoA(5000, 1 , 0.1, 0.6, x_start= np.copy(x_s), x_opt= np.copy(x_op), A = np.copy(A), B = np.copy(B), l = 10, d = 100) #z_prev"
      ],
      "execution_count": null,
      "outputs": []
    },
    {
      "cell_type": "code",
      "metadata": {
        "id": "232_X7uHTMvX",
        "colab": {
          "base_uri": "https://localhost:8080/",
          "height": 298
        },
        "outputId": "5ae9c42b-7b09-44cf-c842-5f5eb47e7d22"
      },
      "source": [
        "plt.plot(ii_A1[:100] , ei_A1[:100] , linestyle = '-', label = 'A at 10')\n",
        "plt.plot(ii_A2[:100] , ei_A2[:100] , linestyle = '-', label = 'A at 15')\n",
        "plt.plot(ii_A3[:100] , ei_A3[:100] , linestyle = '-', label = 'A at 25')\n",
        "plt.plot(ii_A4[:100] , ei_A4[:100] , linestyle = '-', label = 'A at 49')\n",
        "# plt.plot(GI[:5] , GE[:5] , linestyle = '-', label ='GD')\n",
        "plt.xlabel('Number_of_iterations')\n",
        "plt.ylabel('Error')\n",
        "plt.legend()"
      ],
      "execution_count": null,
      "outputs": [
        {
          "output_type": "execute_result",
          "data": {
            "text/plain": [
              "<matplotlib.legend.Legend at 0x7f502a5aa950>"
            ]
          },
          "metadata": {
            "tags": []
          },
          "execution_count": 33
        },
        {
          "output_type": "display_data",
          "data": {
            "image/png": "[encoded data removed]",
            "text/plain": [
              "<Figure size 432x288 with 1 Axes>"
            ]
          },
          "metadata": {
            "tags": [],
            "needs_background": "light"
          }
        }
      ]
    },
    {
      "cell_type": "code",
      "metadata": {
        "colab": {
          "base_uri": "https://localhost:8080/",
          "height": 298
        },
        "id": "81KNQOL0tuY7",
        "outputId": "eb88b1f2-bb28-43f3-8e8e-84fb688b625a"
      },
      "source": [
        "plt.plot(i_A1[800:1000] , e_A1[800:1000] , linestyle = '-', label = 'A at 10') #dusra wala function hai\n",
        "plt.plot(i_A2[800:1000] , e_A2[800:1000] , linestyle = '-', label = 'A at 15')\n",
        "plt.plot(i_A3[800:1000] , e_A3[800:1000] , linestyle = '-', label = 'A at 25')\n",
        "plt.plot(i_A4[800:1000] , e_A4[800:1000] , linestyle = '-', label = 'A at 50')\n",
        "# plt.plot(GI[:5] , GE[:5] , linestyle = '-', label ='GD')\n",
        "plt.xlabel('Number_of_iterations')\n",
        "plt.ylabel('Error')\n",
        "plt.legend()"
      ],
      "execution_count": null,
      "outputs": [
        {
          "output_type": "execute_result",
          "data": {
            "text/plain": [
              "<matplotlib.legend.Legend at 0x7fe57a61f7d0>"
            ]
          },
          "metadata": {
            "tags": []
          },
          "execution_count": 43
        },
        {
          "output_type": "display_data",
          "data": {
            "image/png": "[encoded data removed]",
            "text/plain": [
              "<Figure size 432x288 with 1 Axes>"
            ]
          },
          "metadata": {
            "tags": [],
            "needs_background": "light"
          }
        }
      ]
    },
    {
      "cell_type": "code",
      "metadata": {
        "colab": {
          "base_uri": "https://localhost:8080/",
          "height": 298
        },
        "id": "ZdUSBSh_F87C",
        "outputId": "0b09a080-51bd-400d-eda7-dbf2eeb166c0"
      },
      "source": [
        "plt.plot(i_A4[:1000] , e_A4[:1000] , linestyle = '-', label = 'A at 10')\n",
        "plt.plot(ii_A4[:1000] , ei_A4[:1000] , linestyle = '-', label = 'A at 49')\n",
        "plt.xlabel('Number_of_iterations')\n",
        "plt.ylabel('Error')\n",
        "plt.legend()"
      ],
      "execution_count": null,
      "outputs": [
        {
          "output_type": "execute_result",
          "data": {
            "text/plain": [
              "<matplotlib.legend.Legend at 0x7fe575e76790>"
            ]
          },
          "metadata": {
            "tags": []
          },
          "execution_count": 58
        },
        {
          "output_type": "display_data",
          "data": {
            "image/png": "[encoded data removed]",
            "text/plain": [
              "<Figure size 432x288 with 1 Axes>"
            ]
          },
          "metadata": {
            "tags": [],
            "needs_background": "light"
          }
        }
      ]
    }
  ]
}